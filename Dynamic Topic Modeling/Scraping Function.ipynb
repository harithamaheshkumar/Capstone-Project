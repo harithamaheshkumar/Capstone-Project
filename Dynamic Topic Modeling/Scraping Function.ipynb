{
 "cells": [
  {
   "cell_type": "code",
   "execution_count": 1,
   "metadata": {},
   "outputs": [],
   "source": [
    "from bs4 import BeautifulSoup\n",
    "import requests\n",
    "import os\n",
    "from pdfminer.pdfparser import PDFParser\n",
    "from pdfminer.pdfdocument import PDFDocument\n",
    "\n",
    "\n",
    "def get_documents(file_extension, url, time_indicator, directory):\n",
    "    r  = requests.get(url)\n",
    "    data = r.text\n",
    "    soup = BeautifulSoup(data)\n",
    "    \n",
    "    url_list = []\n",
    "    \n",
    "    for link in soup.find_all('a'):\n",
    "        try:\n",
    "            if file_extension in link.get('href'):\n",
    "                url_list.append(link.get('href'))\n",
    "        except:\n",
    "            None\n",
    "            \n",
    "    os.chdir(directory)\n",
    "    \n",
    "    for index, url in enumerate(url_list):\n",
    "        try:\n",
    "            r = requests.get(url)\n",
    "\n",
    "            write_path = time_indicator + \"_file_\" + str(index) + file_extension\n",
    "\n",
    "            with open(write_path,'wb') as f: \n",
    "                f.write(r.content) \n",
    "\n",
    "            with open(write_path, 'rb') as fp:\n",
    "                parser = PDFParser(fp)\n",
    "                doc = PDFDocument(parser)\n",
    "\n",
    "                try:\n",
    "                    subject = doc.info[0]['Subject'].decode(\"utf-8\") \n",
    "                    subject = subject.replace('/', '')\n",
    "                except:\n",
    "                    subject = \"no_subject\" + str(index)\n",
    "\n",
    "                try:\n",
    "                    creation = doc.info[0]['CreationDate'].decode(\"utf-8\")[2:-4]\n",
    "                except:\n",
    "                    creation = \"no_creation\" + str(index)\n",
    "\n",
    "            new_path = creation + '_' + subject + file_extension\n",
    "\n",
    "            os.rename(write_path, new_path)\n",
    "        except FileExistsError:\n",
    "            print(\"duplicate\")\n",
    "            os.remove(write_path)\n",
    "            pass\n",
    "\n",
    "    os.chdir(\"..\")"
   ]
  },
  {
   "cell_type": "code",
   "execution_count": 2,
   "metadata": {},
   "outputs": [
    {
     "name": "stdout",
     "output_type": "stream",
     "text": [
      "duplicate\n",
      "duplicate\n",
      "duplicate\n",
      "duplicate\n",
      "duplicate\n",
      "duplicate\n",
      "duplicate\n",
      "duplicate\n",
      "duplicate\n",
      "duplicate\n"
     ]
    }
   ],
   "source": [
    "for year in range(2015, 2020):\n",
    "    url = \"https://stock.walmart.com/investors/financial-information/sec-filings/\" + str(year) + \"/default.aspx\"\n",
    "    \n",
    "    get_documents(file_extension = '.pdf', \n",
    "                  url = url, \n",
    "                  time_indicator = str(year),\n",
    "                  directory = \"Walmart\")"
   ]
  }
 ],
 "metadata": {
  "kernelspec": {
   "display_name": "Python 3",
   "language": "python",
   "name": "python3"
  },
  "language_info": {
   "codemirror_mode": {
    "name": "ipython",
    "version": 3
   },
   "file_extension": ".py",
   "mimetype": "text/x-python",
   "name": "python",
   "nbconvert_exporter": "python",
   "pygments_lexer": "ipython3",
   "version": "3.7.1"
  }
 },
 "nbformat": 4,
 "nbformat_minor": 2
}
