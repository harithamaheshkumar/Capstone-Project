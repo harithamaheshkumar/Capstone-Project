{
 "cells": [
  {
   "cell_type": "code",
   "execution_count": 1,
   "metadata": {},
   "outputs": [],
   "source": [
    "import pdftotext\n",
    "import os\n",
    "\n",
    "def is_fancy(filepath):\n",
    "    check_words = [\"Corrected Transcript\",\n",
    "                  \"www.callstreet.com\",\n",
    "                  \"FactSet CallStreet, LLC\"]\n",
    "    pdfFileObj = open(filepath,'rb')\n",
    "    pdf = pdftotext.PDF(pdfFileObj)\n",
    "    text = \"\\n\\n\".join(pdf)\n",
    "    return(all([ check_word in text for check_word in check_words]))"
   ]
  },
  {
   "cell_type": "code",
   "execution_count": 25,
   "metadata": {},
   "outputs": [],
   "source": [
    "path = os.getcwd() + '\\data\\Transcripts2019'\n",
    "files = os.listdir(path)"
   ]
  },
  {
   "cell_type": "code",
   "execution_count": 32,
   "metadata": {},
   "outputs": [
    {
     "name": "stdout",
     "output_type": "stream",
     "text": [
      "True \t 20190219_earningcall_2019Q4.pdf\n",
      "False \t 20190305_conference.pdf\n",
      "True \t 20190306_conference.PDF\n",
      "True \t 20190312_conference.pdf\n",
      "False \t 20190516_earningcall_2020Q1.pdf\n",
      "True \t 20190530_conference.pdf\n",
      "False \t 20190607_investmentcommunity.pdf\n",
      "True \t 20190611_conference.pdf\n",
      "False \t 20190815_earningcall_2020Q2.pdf\n",
      "True \t 20190904_conference.pdf\n",
      "True \t 20190905_conference.pdf\n",
      "False \t 20191114_earningcall_2020Q3.pdf\n",
      "True \t 20191115_conference.pdf\n",
      "True \t 20191204_conference.pdf\n"
     ]
    }
   ],
   "source": [
    "for file in files:\n",
    "    filename = path + \"\\\\\" + file\n",
    "    print(is_fancy(filename), '\\t', file)"
   ]
  }
 ],
 "metadata": {
  "kernelspec": {
   "display_name": "Python 3",
   "language": "python",
   "name": "python3"
  },
  "language_info": {
   "codemirror_mode": {
    "name": "ipython",
    "version": 3
   },
   "file_extension": ".py",
   "mimetype": "text/x-python",
   "name": "python",
   "nbconvert_exporter": "python",
   "pygments_lexer": "ipython3",
   "version": "3.6.8"
  }
 },
 "nbformat": 4,
 "nbformat_minor": 2
}
