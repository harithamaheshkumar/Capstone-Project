{
 "cells": [
  {
   "cell_type": "code",
   "execution_count": 27,
   "metadata": {},
   "outputs": [],
   "source": [
    "from bs4 import BeautifulSoup\n",
    "\n",
    "import requests\n",
    "r  = requests.get(\"https://stock.walmart.com/investors/financial-information/sec-filings/2019/default.aspx\")\n",
    "data = r.text\n",
    "soup = BeautifulSoup(data)\n",
    "\n",
    "l = []\n",
    "\n",
    "for link in soup.find_all('a'):\n",
    "    try:\n",
    "        if 'xls' in link.get('href'):\n",
    "            l.append(link.get('href'))\n",
    "    except:\n",
    "        None"
   ]
  },
  {
   "cell_type": "code",
   "execution_count": 28,
   "metadata": {},
   "outputs": [
    {
     "data": {
      "text/plain": [
       "'http://d18rn0p25nwr6d.cloudfront.net/CIK-0000104169/eaae238b-42c1-49df-8eb6-00956dd0c4cf.xls'"
      ]
     },
     "execution_count": 28,
     "metadata": {},
     "output_type": "execute_result"
    }
   ],
   "source": [
    "l[0]"
   ]
  },
  {
   "cell_type": "code",
   "execution_count": 41,
   "metadata": {},
   "outputs": [],
   "source": [
    "# imported the requests library \n",
    "import requests \n",
    "image_url = l[0]\n",
    "  \n",
    "# URL of the image to be downloaded is defined as image_url \n",
    "r = requests.get(image_url) # create HTTP response object \n",
    "  \n",
    "# send a HTTP request to the server and save \n",
    "# the HTTP response in a response object called r \n",
    "with open(l[0],'wb') as f: \n",
    "  \n",
    "    # Saving received content as a png file in \n",
    "    # binary format \n",
    "  \n",
    "    # write the contents of the response (r.content) \n",
    "    # to a new file in binary mode. \n",
    "    f.write(r.content) "
   ]
  }
 ],
 "metadata": {
  "kernelspec": {
   "display_name": "Python 3",
   "language": "python",
   "name": "python3"
  },
  "language_info": {
   "codemirror_mode": {
    "name": "ipython",
    "version": 3
   },
   "file_extension": ".py",
   "mimetype": "text/x-python",
   "name": "python",
   "nbconvert_exporter": "python",
   "pygments_lexer": "ipython3",
   "version": "3.7.4"
  }
 },
 "nbformat": 4,
 "nbformat_minor": 2
}
