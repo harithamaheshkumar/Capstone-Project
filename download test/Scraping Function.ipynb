{
 "cells": [
  {
   "cell_type": "code",
   "execution_count": 1,
   "metadata": {},
   "outputs": [],
   "source": [
    "from bs4 import BeautifulSoup\n",
    "import requests\n",
    "import os\n",
    "\n",
    "def get_documents(file_extension, url, time_indicator, directory):\n",
    "    r  = requests.get(url)\n",
    "    data = r.text\n",
    "    soup = BeautifulSoup(data)\n",
    "    \n",
    "    url_list = []\n",
    "    \n",
    "    for link in soup.find_all('a'):\n",
    "        try:\n",
    "            if file_extension in link.get('href'):\n",
    "                url_list.append(link.get('href'))\n",
    "        except:\n",
    "            None\n",
    "            \n",
    "    os.chdir(directory)\n",
    "    \n",
    "    for index, url in enumerate(url_list):\n",
    "        r = requests.get(url)\n",
    "        \n",
    "        with open(time_indicator + \"_file_\" + str(index) + file_extension,'wb') as f: \n",
    "            f.write(r.content) \n",
    "            \n",
    "    os.chdir(\"..\")"
   ]
  },
  {
   "cell_type": "code",
   "execution_count": 2,
   "metadata": {},
   "outputs": [],
   "source": [
    "# get_documents('.pdf', \n",
    "#               \"https://stock.walmart.com/investors/financial-information/sec-filings/2019/default.aspx\", \n",
    "#               \"2019\",\n",
    "#               \"Walmart\")"
   ]
  },
  {
   "cell_type": "code",
   "execution_count": 3,
   "metadata": {},
   "outputs": [],
   "source": [
    "for year in range(2015, 2020):\n",
    "    url = \"https://stock.walmart.com/investors/financial-information/sec-filings/\" + str(year) + \"/default.aspx\"\n",
    "    \n",
    "    get_documents('.pdf', \n",
    "                  \"https://stock.walmart.com/investors/financial-information/sec-filings/2019/default.aspx\", \n",
    "                  str(year),\n",
    "                  \"Walmart\")"
   ]
  }
 ],
 "metadata": {
  "kernelspec": {
   "display_name": "Python 3",
   "language": "python",
   "name": "python3"
  },
  "language_info": {
   "codemirror_mode": {
    "name": "ipython",
    "version": 3
   },
   "file_extension": ".py",
   "mimetype": "text/x-python",
   "name": "python",
   "nbconvert_exporter": "python",
   "pygments_lexer": "ipython3",
   "version": "3.7.4"
  }
 },
 "nbformat": 4,
 "nbformat_minor": 2
}
